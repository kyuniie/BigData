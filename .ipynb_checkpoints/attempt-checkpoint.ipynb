{
 "cells": [
  {
   "cell_type": "code",
   "execution_count": 21,
   "metadata": {},
   "outputs": [],
   "source": [
    "from rdkit import Chem\n",
    "from mordred import Calculator, descriptors\n",
    "import pandas as pd\n",
    "A = open(\"A.csv\").readlines()\n",
    "B = open(\"B.csv\").readlines()"
   ]
  },
  {
   "cell_type": "code",
   "execution_count": 8,
   "metadata": {},
   "outputs": [
    {
     "data": {
      "text/plain": [
       "('SMILES,CHEMSPIDER_ID,CHEMBL_ID,CHEMBL_KNOWN_DRUG,CHEMBL_ALTERNATE_NAME,CLINICALTRIALS_DB,CONCENTRATION_uM,\\n',\n",
       " 'DrugBank ID,CAS Number,Drug Groups,InChIKey,SMILES,Formula,KEGG Compound ID,KEGG Drug ID,PubChem Compound ID,PubChem Substance ID,ChEBI ID,ChEMBL ID,HET ID,ChemSpider ID,BindingDB ID\\n')"
      ]
     },
     "execution_count": 8,
     "metadata": {},
     "output_type": "execute_result"
    }
   ],
   "source": [
    "A[0],B[0]"
   ]
  },
  {
   "cell_type": "code",
   "execution_count": 9,
   "metadata": {},
   "outputs": [
    {
     "name": "stdout",
     "output_type": "stream",
     "text": [
      "277\n"
     ]
    }
   ],
   "source": [
    "## Counting BLANK CHEMBL_ID\n",
    "blank = 0\n",
    "for i in A:\n",
    "    row = i.split(\",\")\n",
    "    if row[2] == \"\":\n",
    "        blank += 1\n",
    "print(blank)"
   ]
  },
  {
   "cell_type": "code",
   "execution_count": 10,
   "metadata": {},
   "outputs": [
    {
     "name": "stdout",
     "output_type": "stream",
     "text": [
      "1403 10255\n"
     ]
    }
   ],
   "source": [
    "smileA = []\n",
    "smileB = []\n",
    "## finding smiles match\n",
    "for i in A:\n",
    "    row = i.split(\",\")\n",
    "    smileA.append(Chem.MolFromSmiles(row[0]))\n",
    "for j in B:\n",
    "    row2 = j.split(\",\")\n",
    "    smileB.append(Chem.MolFromSmiles(row2[4]))\n",
    "print(len(smileA),len(smileB))\n"
   ]
  },
  {
   "cell_type": "code",
   "execution_count": 13,
   "metadata": {},
   "outputs": [],
   "source": [
    "counting = 0\n",
    "for j in smileB:\n",
    "    for i in smileA:\n",
    "        if i == j:\n",
    "            counting += 1\n"
   ]
  },
  {
   "cell_type": "code",
   "execution_count": 14,
   "metadata": {},
   "outputs": [
    {
     "name": "stdout",
     "output_type": "stream",
     "text": [
      "42\n"
     ]
    }
   ],
   "source": [
    "print(counting)"
   ]
  },
  {
   "cell_type": "code",
   "execution_count": 25,
   "metadata": {},
   "outputs": [],
   "source": [
    "information = []\n",
    "count = 0\n",
    "smile = []\n",
    "for i in A:\n",
    "    row = i.split(\",\")\n",
    "    CHEMBL_ID = row[2]\n",
    "    t = row[0]\n",
    "    for j in B:\n",
    "        row2 = j.split(\",\")\n",
    "        drugbankID = row2[0]\n",
    "        smiles = row2[4]\n",
    "        formula = row2[5]\n",
    "        if row2[11] == row[2] and row[2] is not \"\":\n",
    "            information.append(drugbankID)\n",
    "            information.extend([CHEMBL_ID, smiles, formula])\n",
    "            smile.append(smiles)\n"
   ]
  },
  {
   "cell_type": "code",
   "execution_count": 28,
   "metadata": {},
   "outputs": [
    {
     "data": {
      "text/plain": [
       "766"
      ]
     },
     "execution_count": 28,
     "metadata": {},
     "output_type": "execute_result"
    }
   ],
   "source": [
    "len(smile)"
   ]
  },
  {
   "cell_type": "code",
   "execution_count": 18,
   "metadata": {},
   "outputs": [],
   "source": [
    "newinformation = []\n",
    "for i in range(0, len(information), 4):\n",
    "    newinformation.append(information[i:i+4])\n"
   ]
  },
  {
   "cell_type": "code",
   "execution_count": 19,
   "metadata": {},
   "outputs": [
    {
     "data": {
      "text/plain": [
       "(['DB12028',\n",
       "  'CHEMBL222280',\n",
       "  '[H][C@]1(O)C[C@@]([H])(O[C@]1([H])CO)N1C=C(Br)C(O)=NC1=O',\n",
       "  'C9H11BrN2O5'],\n",
       " ['DB00484', 'CHEMBL844', 'BrC1=C(NC2=NCCN2)C=CC2=NC=CN=C12', 'C11H10BrN5'],\n",
       " ['DB12319',\n",
       "  'CHEMBL388590',\n",
       "  'CCC1=C(C(=O)C2=CC(Br)=C(O)C(Br)=C2)C2=CC=CC=C2O1',\n",
       "  'C17H12Br2O3'])"
      ]
     },
     "execution_count": 19,
     "metadata": {},
     "output_type": "execute_result"
    }
   ],
   "source": [
    "newinformation[0],newinformation[1],newinformation[2]"
   ]
  },
  {
   "cell_type": "code",
   "execution_count": 20,
   "metadata": {},
   "outputs": [
    {
     "data": {
      "text/plain": [
       "766"
      ]
     },
     "execution_count": 20,
     "metadata": {},
     "output_type": "execute_result"
    }
   ],
   "source": [
    "len(newinformation)"
   ]
  },
  {
   "cell_type": "code",
   "execution_count": 23,
   "metadata": {},
   "outputs": [],
   "source": [
    "df = pd.DataFrame.from_records(newinformation, columns = ['DrugBankID','Chembl_ID','smiles','formula'])"
   ]
  },
  {
   "cell_type": "code",
   "execution_count": 24,
   "metadata": {},
   "outputs": [],
   "source": [
    "df.to_excel(\"testingg.xlsx\")"
   ]
  },
  {
   "cell_type": "code",
   "execution_count": 31,
   "metadata": {},
   "outputs": [],
   "source": [
    "calc = Calculator(descriptors, ignore_3D=True)"
   ]
  },
  {
   "cell_type": "code",
   "execution_count": 32,
   "metadata": {},
   "outputs": [
    {
     "data": {
      "text/plain": [
       "1612"
      ]
     },
     "execution_count": 32,
     "metadata": {},
     "output_type": "execute_result"
    }
   ],
   "source": [
    "len(Calculator(descriptors, ignore_3D=True, version=\"1.0.0\"))"
   ]
  },
  {
   "cell_type": "code",
   "execution_count": 33,
   "metadata": {},
   "outputs": [],
   "source": [
    "mols = [Chem.MolFromSmiles(smi) for smi in smile]"
   ]
  },
  {
   "cell_type": "code",
   "execution_count": 34,
   "metadata": {},
   "outputs": [
    {
     "name": "stderr",
     "output_type": "stream",
     "text": [
      "                                                                                                                       \r"
     ]
    },
    {
     "name": "stdout",
     "output_type": "stream",
     "text": [
      "C:\\Users\\eric\\Anaconda3\\lib\\site-packages\\numpy\\core\\fromnumeric.py:86: RuntimeWarning: overflow encountered in reduce\n",
      "  return ufunc.reduce(obj, axis, dtype, out, **passkwargs)\n"
     ]
    },
    {
     "name": "stderr",
     "output_type": "stream",
     "text": [
      "                                                                                                                       \r"
     ]
    },
    {
     "name": "stdout",
     "output_type": "stream",
     "text": [
      "C:\\Users\\eric\\Anaconda3\\lib\\site-packages\\numpy\\core\\fromnumeric.py:86: RuntimeWarning: overflow encountered in reduce\n",
      "  return ufunc.reduce(obj, axis, dtype, out, **passkwargs)\n"
     ]
    },
    {
     "name": "stderr",
     "output_type": "stream",
     "text": [
      "                                                                                                                       \r"
     ]
    },
    {
     "name": "stdout",
     "output_type": "stream",
     "text": [
      "C:\\Users\\eric\\Anaconda3\\lib\\site-packages\\numpy\\core\\fromnumeric.py:86: RuntimeWarning: overflow encountered in reduce\n",
      "  return ufunc.reduce(obj, axis, dtype, out, **passkwargs)\n"
     ]
    },
    {
     "name": "stderr",
     "output_type": "stream",
     "text": [
      "                                                                                                                       \r"
     ]
    },
    {
     "name": "stdout",
     "output_type": "stream",
     "text": [
      "C:\\Users\\eric\\Anaconda3\\lib\\site-packages\\mordred\\Autocorrelation.py:97: RuntimeWarning: Mean of empty slice.\n",
      "  return avec - avec.mean()\n"
     ]
    },
    {
     "name": "stderr",
     "output_type": "stream",
     "text": [
      "                                                                                                                       \r"
     ]
    },
    {
     "name": "stdout",
     "output_type": "stream",
     "text": [
      "C:\\Users\\eric\\Anaconda3\\lib\\site-packages\\numpy\\core\\_methods.py:85: RuntimeWarning: invalid value encountered in double_scalars\n",
      "  ret = ret.dtype.type(ret / rcount)\n"
     ]
    },
    {
     "name": "stderr",
     "output_type": "stream",
     "text": [
      "                                                                                                                       \r"
     ]
    },
    {
     "name": "stdout",
     "output_type": "stream",
     "text": [
      "C:\\Users\\eric\\Anaconda3\\lib\\site-packages\\mordred\\Constitutional.py:80: RuntimeWarning: invalid value encountered in double_scalars\n",
      "  return S / self.mol.GetNumAtoms()\n"
     ]
    },
    {
     "name": "stderr",
     "output_type": "stream",
     "text": [
      "                                                                                                                       \r"
     ]
    },
    {
     "name": "stdout",
     "output_type": "stream",
     "text": [
      "C:\\Users\\eric\\Anaconda3\\lib\\site-packages\\numpy\\core\\fromnumeric.py:86: RuntimeWarning: overflow encountered in reduce\n",
      "  return ufunc.reduce(obj, axis, dtype, out, **passkwargs)\n"
     ]
    },
    {
     "name": "stderr",
     "output_type": "stream",
     "text": [
      "100%|████████████████████████████████████████████████████████████████████████████████| 766/766 [00:42<00:00, 17.98it/s]\n"
     ]
    }
   ],
   "source": [
    "dff = calc.pandas(mols)"
   ]
  },
  {
   "cell_type": "code",
   "execution_count": 35,
   "metadata": {},
   "outputs": [
    {
     "data": {
      "text/plain": [
       "0      -0.64790\n",
       "1       1.76340\n",
       "2       5.45680\n",
       "3       3.92770\n",
       "4       3.04540\n",
       "5       5.03770\n",
       "6      12.60580\n",
       "7       5.08800\n",
       "8       6.56260\n",
       "9       0.87470\n",
       "10      0.62130\n",
       "11      4.10310\n",
       "12      0.69942\n",
       "13      3.37790\n",
       "14      4.19490\n",
       "15      1.15700\n",
       "16      1.88400\n",
       "17      6.21500\n",
       "18      3.91650\n",
       "19      4.08680\n",
       "20      3.60570\n",
       "21      4.85930\n",
       "22      4.74362\n",
       "23      6.03730\n",
       "24      0.28820\n",
       "25      2.00980\n",
       "26      3.96430\n",
       "27      1.92630\n",
       "28      2.81030\n",
       "29      2.73440\n",
       "         ...   \n",
       "736     4.02580\n",
       "737     1.74050\n",
       "738     0.07350\n",
       "739     1.74050\n",
       "740     2.42220\n",
       "741     1.78460\n",
       "742     1.55800\n",
       "743     4.22100\n",
       "744     2.22890\n",
       "745     1.97722\n",
       "746     1.95092\n",
       "747     3.72320\n",
       "748    -0.85610\n",
       "749     1.58220\n",
       "750     3.43922\n",
       "751     4.37420\n",
       "752     2.73220\n",
       "753     6.07520\n",
       "754     2.77710\n",
       "755     0.60774\n",
       "756     2.68640\n",
       "757    -0.86980\n",
       "758    -0.17180\n",
       "759    -0.76800\n",
       "760     5.04484\n",
       "761     0.09860\n",
       "762     4.63090\n",
       "763     5.90520\n",
       "764     3.37370\n",
       "765     0.50250\n",
       "Name: SLogP, Length: 766, dtype: float64"
      ]
     },
     "execution_count": 35,
     "metadata": {},
     "output_type": "execute_result"
    }
   ],
   "source": [
    "dff['SLogP']"
   ]
  }
 ],
 "metadata": {
  "kernelspec": {
   "display_name": "Python 3",
   "language": "python",
   "name": "python3"
  },
  "language_info": {
   "codemirror_mode": {
    "name": "ipython",
    "version": 3
   },
   "file_extension": ".py",
   "mimetype": "text/x-python",
   "name": "python",
   "nbconvert_exporter": "python",
   "pygments_lexer": "ipython3",
   "version": "3.5.6"
  }
 },
 "nbformat": 4,
 "nbformat_minor": 2
}
